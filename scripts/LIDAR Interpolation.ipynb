{
 "cells": [
  {
   "cell_type": "code",
   "execution_count": 2,
   "id": "defined-bermuda",
   "metadata": {},
   "outputs": [
    {
     "name": "stdout",
     "output_type": "stream",
     "text": [
      "Loaded 18 scans\n"
     ]
    }
   ],
   "source": [
    "import json\n",
    "import numpy as np\n",
    "import matplotlib.pyplot as plt\n",
    "from scipy import interpolate\n",
    "\n",
    "SCANS_FILE = \"/Users/taylan/Desktop/LIDAR/docs/scans.json\"\n",
    "SCANS = []\n",
    "\n",
    "with open(SCANS_FILE, \"r\") as f:\n",
    "    payload = json.load(f)\n",
    "\n",
    "    SCANS = payload.get(\"scans\")\n",
    "\n",
    "print(\"Loaded %s scans\" % len(SCANS))"
   ]
  },
  {
   "cell_type": "code",
   "execution_count": 12,
   "id": "noticed-charlotte",
   "metadata": {},
   "outputs": [
    {
     "name": "stdout",
     "output_type": "stream",
     "text": [
      "Max Position: 3623\n",
      "Average Max Position: 3554\n",
      "Average Scans: 275\n"
     ]
    }
   ],
   "source": [
    "max_positions = []\n",
    "points_per_scan = []\n",
    "\n",
    "for s in SCANS:\n",
    "    last_pos, _ = s.get(\"scans\")[-1]\n",
    "    \n",
    "    max_positions.append(last_pos)\n",
    "    points_per_scan.append(len(s.get(\"scans\")))\n",
    "\n",
    "MAX_POSITION = max(max_positions)\n",
    "AVERAGE_MAX_POSITION = np.average(max_positions)\n",
    "AVERAGE_POINTS = np.average(points_per_scan)\n",
    "\n",
    "print(\"Max Position: %d\" % MAX_POSITION)\n",
    "print(\"Average Max Position: %d\" % AVERAGE_MAX_POSITION)\n",
    "print(\"Average Scans: %d\" % AVERAGE_POINTS)"
   ]
  },
  {
   "cell_type": "code",
   "execution_count": 51,
   "id": "matched-spider",
   "metadata": {},
   "outputs": [
    {
     "data": {
      "image/png": "[encoded data removed]",
      "text/plain": [
       "<Figure size 432x288 with 1 Axes>"
      ]
     },
     "metadata": {
      "needs_background": "light"
     },
     "output_type": "display_data"
    }
   ],
   "source": [
    "TOTAL_SAMPLES = 720\n",
    "\n",
    "X_SPACE_DEGS = np.linspace(-math.pi, math.pi, TOTAL_SAMPLES)\n",
    "\n",
    "def parse_scan(points):\n",
    "    x_points = []\n",
    "    y_points = []\n",
    "    \n",
    "    for pos, dist in points:\n",
    "        if pos > MAX_POSITION:\n",
    "            continue\n",
    "        \n",
    "        x_points.append(math.radians(360.0 * float(pos) / MAX_POSITION) - math.pi)\n",
    "        y_points.append(dist)\n",
    "\n",
    "    fig = plt.figure()\n",
    "    ax = fig.subplots()\n",
    "    \n",
    "    f = interpolate.interp1d(x_points, y_points, kind=\"nearest\", fill_value=\"extrapolate\")\n",
    "    y_interp = f(X_SPACE_DEGS)\n",
    "    \n",
    "    ax.plot(X_SPACE_DEGS, y_interp, alpha=0.5, label=\"nearest\")\n",
    "    ax.scatter(x_points, y_points)\n",
    "    \n",
    "    plt.legend()\n",
    "    plt.show()\n",
    "\n",
    "parse_scan(SCANS[10].get(\"scans\"))"
   ]
  },
  {
   "cell_type": "code",
   "execution_count": 52,
   "id": "colonial-elder",
   "metadata": {},
   "outputs": [
    {
     "data": {
      "image/png": "[encoded data removed]",
      "text/plain": [
       "<Figure size 432x288 with 1 Axes>"
      ]
     },
     "metadata": {
      "needs_background": "light"
     },
     "output_type": "display_data"
    }
   ],
   "source": [
    "import math\n",
    "\n",
    "CENTER_X = 0\n",
    "CENTER_Y = 0\n",
    "MAX_SCAN_SIZE_CM = 2000\n",
    "\n",
    "X_SPACE_RADS = np.linspace(-math.pi, math.pi, TOTAL_SAMPLES)\n",
    "\n",
    "def show_interpolated_scan(points):\n",
    "    x_points = []\n",
    "    y_points = []\n",
    "    \n",
    "    for pos, dist in points:\n",
    "        if pos > MAX_POSITION:\n",
    "            continue\n",
    "        \n",
    "        x_points.append(math.radians(360.0 * float(pos) / MAX_POSITION) - math.pi)\n",
    "        y_points.append(dist)\n",
    "    \n",
    "    f = interpolate.interp1d(x_points, y_points, kind=\"nearest\", fill_value=\"extrapolate\")\n",
    "    y_interp = f(X_SPACE_RADS)\n",
    "    \n",
    "    x_coords = []\n",
    "    y_coords = []\n",
    "    avg_radius = np.average(y_interp)\n",
    "    \n",
    "    for angle, dist in zip(X_SPACE_RADS, y_interp):\n",
    "        radius = avg_radius * dist / MAX_SCAN_SIZE_CM\n",
    "        \n",
    "        x_coords.append(CENTER_X + radius * math.cos(angle))\n",
    "        y_coords.append(CENTER_Y + radius * math.sin(angle))\n",
    "\n",
    "    fig = plt.figure()\n",
    "    ax = fig.subplots()\n",
    "    \n",
    "    ax.scatter(x_coords, y_coords)\n",
    "    \n",
    "    plt.show()\n",
    "\n",
    "show_interpolated_scan(SCANS[10].get(\"scans\"))"
   ]
  },
  {
   "cell_type": "code",
   "execution_count": null,
   "id": "apparent-lemon",
   "metadata": {},
   "outputs": [],
   "source": []
  }
 ],
 "metadata": {
  "kernelspec": {
   "display_name": "Python 3",
   "language": "python",
   "name": "python3"
  },
  "language_info": {
   "codemirror_mode": {
    "name": "ipython",
    "version": 3
   },
   "file_extension": ".py",
   "mimetype": "text/x-python",
   "name": "python",
   "nbconvert_exporter": "python",
   "pygments_lexer": "ipython3",
   "version": "3.7.10"
  }
 },
 "nbformat": 4,
 "nbformat_minor": 5
}
